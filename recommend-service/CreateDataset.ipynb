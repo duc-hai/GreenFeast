{
  "nbformat": 4,
  "nbformat_minor": 0,
  "metadata": {
    "colab": {
      "provenance": []
    },
    "kernelspec": {
      "name": "python3",
      "display_name": "Python 3"
    },
    "language_info": {
      "name": "python"
    }
  },
  "cells": [
    {
      "cell_type": "markdown",
      "source": [],
      "metadata": {
        "id": "PPBEB6mWXhcY"
      }
    },
    {
      "cell_type": "markdown",
      "source": [
        "# Random Dataset for Recommend System"
      ],
      "metadata": {
        "id": "UBjTo10UXiU3"
      }
    },
    {
      "cell_type": "code",
      "source": [
        "import pandas as pd\n",
        "import numpy as np\n",
        "import random\n",
        "from datetime import datetime, timedelta\n",
        "import random\n",
        "\n",
        "def generate_random_date_of_birth(start_year, end_year):\n",
        "    # Define the range of years\n",
        "    start_date = datetime(year=start_year, month=1, day=1)\n",
        "    end_date = datetime(year=end_year, month=12, day=31)\n",
        "\n",
        "    # Calculate the difference in days\n",
        "    delta_days = (end_date - start_date).days\n",
        "\n",
        "    # Generate a random number of days to add to the start date\n",
        "    random_days = random.randint(0, delta_days)\n",
        "\n",
        "    # Generate the random date\n",
        "    random_date = start_date + timedelta(days=random_days)\n",
        "\n",
        "    return random_date.strftime('%Y-%m-%d')\n",
        "\n",
        "\n",
        "num_users = 100  # Number of user sample data\n",
        "\n",
        "def generate_random_phone_number():\n",
        "    return f'0{random.randint(100000000, 999999999)}'\n",
        "\n",
        "def generate_random_timestamp(start_date, end_date):\n",
        "    start_timestamp = int(start_date.timestamp())\n",
        "    end_timestamp = int(end_date.timestamp())\n",
        "    random_timestamp = random.randint(start_timestamp, end_timestamp)\n",
        "    return datetime.fromtimestamp(random_timestamp)\n",
        "\n",
        "users = [generate_random_phone_number() for _ in range(num_users)]\n",
        "# item data, including menu data and category\n",
        "items = [\n",
        "    {\"item_id\": 1, \"item_name\": \"Gỏi cuốn sốt đậu phộng\", \"price\": 90000, \"categoryId\": 1, \"categoryName\": \"Khai vị\"},\n",
        "    {\"item_id\": 2, \"item_name\": \"Chả giò\", \"price\": 80000, \"categoryId\": 1, \"categoryName\": \"Khai vị\"},\n",
        "    {\"item_id\": 3, \"item_name\": \"Đậu hũ chiên giòn\", \"price\": 30000, \"categoryId\": 1, \"categoryName\": \"Khai vị\"},\n",
        "    {\"item_id\": 4, \"item_name\": \"Bông cải xào tỏi\", \"price\": 70000, \"categoryId\": 1, \"categoryName\": \"Khai vị\"},\n",
        "    {\"item_id\": 5, \"item_name\": \"Khoai tây chiên bơ\", \"price\": 45000, \"categoryId\": 1, \"categoryName\": \"Khai vị\"},\n",
        "    {\"item_id\": 6, \"item_name\": \"Cơm chiên thượng hải\", \"price\": 75000, \"categoryId\": 2, \"categoryName\": \"Món ngũ cốc\"},\n",
        "    {\"item_id\": 7, \"item_name\": \"Bún chả giò\", \"price\": 65000, \"categoryId\": 2, \"categoryName\": \"Món ngũ cốc\"},\n",
        "    {\"item_id\": 8, \"item_name\": \"Bánh ướt\", \"price\": 50000, \"categoryId\": 2, \"categoryName\": \"Món ngũ cốc\"},\n",
        "    {\"item_id\": 9, \"item_name\": \"Mì xào thập cẩm\", \"price\": 47000, \"categoryId\": 2, \"categoryName\": \"Món ngũ cốc\"},\n",
        "    {\"item_id\": 10, \"item_name\": \"Ngó sen xào nấm\", \"price\": 55000, \"categoryId\": 3, \"categoryName\": \"Món xào\"},\n",
        "    {\"item_id\": 11, \"item_name\": \"Vịt chay xào\", \"price\": 85000, \"categoryId\": 3, \"categoryName\": \"Món xào\"},\n",
        "    {\"item_id\": 12, \"item_name\": \"Nấm xào chay\", \"price\": 70000, \"categoryId\": 3, \"categoryName\": \"Món xào\"},\n",
        "    {\"item_id\": 13, \"item_name\": \"Rong biển xào xả\", \"price\": 53000, \"categoryId\": 3, \"categoryName\": \"Món xào\"},\n",
        "    {\"item_id\": 14, \"item_name\": \"Đậu hũ kho nấm rơm\", \"price\": 45000, \"categoryId\": 4, \"categoryName\": \"Món kho\"},\n",
        "    {\"item_id\": 15, \"item_name\": \"Chân nấm kho gừng\", \"price\": 57000, \"categoryId\": 4, \"categoryName\": \"Món kho\"},\n",
        "    {\"item_id\": 16, \"item_name\": \"Chả lụa kho tiêu\", \"price\": 92000, \"categoryId\": 4, \"categoryName\": \"Món kho\"},\n",
        "    {\"item_id\": 17, \"item_name\": \"Sườn non chay rim chua ngọt\", \"price\": 110000, \"categoryId\": 4, \"categoryName\": \"Món kho\"},\n",
        "    {\"item_id\": 18, \"item_name\": \"Tôm kho tàu\", \"price\": 120000, \"categoryId\": 4, \"categoryName\": \"Món kho\"},\n",
        "    {\"item_id\": 19, \"item_name\": \"Canh bông hẹ đậu hũ\", \"price\": 37000, \"categoryId\": 5, \"categoryName\": \"Món canh\"},\n",
        "    {\"item_id\": 20, \"item_name\": \"Canh cải chua tứ xuyên\", \"price\": 46000, \"categoryId\": 5, \"categoryName\": \"Món canh\"},\n",
        "    {\"item_id\": 21, \"item_name\": \"Canh khổ qua\", \"price\": 52000, \"categoryId\": 5, \"categoryName\": \"Món canh\"},\n",
        "    {\"item_id\": 22, \"item_name\": \"Lẩu nấm thập cẩm\", \"price\": 157000, \"categoryId\": 6, \"categoryName\": \"Lẩu\"},\n",
        "    {\"item_id\": 23, \"item_name\": \"Lẩu nhiệt đới\", \"price\": 180000, \"categoryId\": 6, \"categoryName\": \"Lẩu\"},\n",
        "    {\"item_id\": 24, \"item_name\": \"Gỏi xoài khô mặn\", \"price\": 57000, \"categoryId\": 7, \"categoryName\": \"Món trộn\"},\n",
        "    {\"item_id\": 25, \"item_name\": \"Gỏi chôm chôm chua ngọt\", \"price\": 82000, \"categoryId\": 7, \"categoryName\": \"Món trộn\"},\n",
        "    {\"item_id\": 26, \"item_name\": \"Xà lách trộn\", \"price\": 45000, \"categoryId\": 7, \"categoryName\": \"Món trộn\"},\n",
        "    {\"item_id\": 27, \"item_name\": \"Cơm thêm\", \"price\": 10000, \"categoryId\": 8, \"categoryName\": \"Món thêm\"},\n",
        "    {\"item_id\": 28, \"item_name\": \"Bún thêm\", \"price\": 10000, \"categoryId\": 8, \"categoryName\": \"Món thêm\"},\n",
        "    {\"item_id\": 29, \"item_name\": \"Rau thêm\", \"price\": 10000, \"categoryId\": 8, \"categoryName\": \"Món thêm\"},\n",
        "    {\"item_id\": 30, \"item_name\": \"Cam cà rốt\", \"price\": 40000, \"categoryId\": 9, \"categoryName\": \"Nước trái cây\"},\n",
        "    {\"item_id\": 31, \"item_name\": \"Dừa tươi\", \"price\": 35000, \"categoryId\": 9, \"categoryName\": \"Nước trái cây\"},\n",
        "    {\"item_id\": 32, \"item_name\": \"Nha đam hạt chia\", \"price\": 45000, \"categoryId\": 9, \"categoryName\": \"Nước trái cây\"},\n",
        "    {\"item_id\": 33, \"item_name\": \"Coca\", \"price\": 15000, \"categoryId\": 10, \"categoryName\": \"Nước ngọt\"},\n",
        "    {\"item_id\": 34, \"item_name\": \"7up\", \"price\": 15000, \"categoryId\": 10, \"categoryName\": \"Nước ngọt\"},\n",
        "    {\"item_id\": 35, \"item_name\": \"Sting\", \"price\": 15000, \"categoryId\": 10, \"categoryName\": \"Nước ngọt\"},\n",
        "    {\"item_id\": 36, \"item_name\": \"Sữa chua trái cây\", \"price\": 35000, \"categoryId\": 11, \"categoryName\": \"Sữa\"},\n",
        "    {\"item_id\": 37, \"item_name\": \"Sữa đậu nành\", \"price\": 35000, \"categoryId\": 11, \"categoryName\": \"Sữa\"},\n",
        "    {\"item_id\": 38, \"item_name\": \"Trà trái cây nhiệt đới\", \"price\": 43000, \"categoryId\": 12, \"categoryName\": \"Trà\"},\n",
        "    {\"item_id\": 39, \"item_name\": \"Trà chanh thái đỏ\", \"price\": 39000, \"categoryId\": 12, \"categoryName\": \"Trà\"},\n",
        "    {\"item_id\": 40, \"item_name\": \"Trà vải cam sả\", \"price\": 40000, \"categoryId\": 12, \"categoryName\": \"Trà\"}\n",
        "]\n",
        "\n",
        "# Create sample data\n",
        "data = []\n",
        "for _ in range(num_users * 10):\n",
        "    userId = random.choice(users)\n",
        "    gender = random.choice(['Male', 'Female'])\n",
        "    birth_date = generate_random_date_of_birth(1970, 2015)\n",
        "    item = random.choice(items)\n",
        "    quantity = random.randint(1, 5)\n",
        "    timestamp = generate_random_timestamp(datetime(2023, 1, 1), datetime(2024, 7, 20))\n",
        "    data.append({\n",
        "        'user': userId,\n",
        "        'item': item['item_id'],\n",
        "        'gender': gender,\n",
        "        'birthday': birth_date,\n",
        "        'item_name': item['item_name'],\n",
        "        'item_price': item['price'],\n",
        "        'label': quantity,\n",
        "        'category_id': item['categoryId'],\n",
        "        'category_name': item['categoryName'],\n",
        "        'time': timestamp\n",
        "    })\n",
        "\n",
        "# Create DataFrame and save to CSV file\n",
        "df = pd.DataFrame(data)\n",
        "df.to_csv('dataset.csv', index=False, encoding='utf-8-sig')\n",
        "\n",
        "print(\"Dataset created and saved to csv file\")"
      ],
      "metadata": {
        "colab": {
          "base_uri": "https://localhost:8080/"
        },
        "id": "krRay_IwXrh1",
        "outputId": "073dacd1-db51-4b99-a2d2-1902c14af5b7"
      },
      "execution_count": null,
      "outputs": [
        {
          "output_type": "stream",
          "name": "stdout",
          "text": [
            "Dataset created and saved to csv file\n"
          ]
        }
      ]
    },
    {
      "cell_type": "markdown",
      "source": [],
      "metadata": {
        "id": "TYoKYcDfXfpF"
      }
    }
  ]
}