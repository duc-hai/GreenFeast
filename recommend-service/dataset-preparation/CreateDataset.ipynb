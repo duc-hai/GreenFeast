{
  "nbformat": 4,
  "nbformat_minor": 0,
  "metadata": {
    "colab": {
      "provenance": []
    },
    "kernelspec": {
      "name": "python3",
      "display_name": "Python 3"
    },
    "language_info": {
      "name": "python"
    }
  },
  "cells": [
    {
      "cell_type": "markdown",
      "source": [],
      "metadata": {
        "id": "PPBEB6mWXhcY"
      }
    },
    {
      "cell_type": "markdown",
      "source": [
        "# Random Dataset for Recommend System"
      ],
      "metadata": {
        "id": "UBjTo10UXiU3"
      }
    },
    {
      "cell_type": "markdown",
      "source": [
        "### Random Users"
      ],
      "metadata": {
        "id": "h3UBX0cllQao"
      }
    },
    {
      "cell_type": "code",
      "source": [
        "def generate_random_date_of_birth(start_year, end_year):\n",
        "    # Define the range of years\n",
        "    start_date = datetime(year=start_year, month=1, day=1)\n",
        "    end_date = datetime(year=end_year, month=12, day=31)\n",
        "\n",
        "    # Calculate the difference in days\n",
        "    delta_days = (end_date - start_date).days\n",
        "\n",
        "    # Generate a random number of days to add to the start date\n",
        "    random_days = random.randint(0, delta_days)\n",
        "\n",
        "    # Generate the random date\n",
        "    random_date = start_date + timedelta(days=random_days)\n",
        "\n",
        "    return random_date.strftime('%Y-%m-%d')\n",
        "\n",
        "def generate_random_phone_number():\n",
        "    return f'0{random.randint(100000000, 999999999)}'\n",
        "\n",
        "num_users = 1988  # Number of user sample data\n",
        "\n",
        "users = [generate_random_phone_number() for _ in range(num_users)]\n",
        "\n",
        "data = []\n",
        "for _ in range(num_users):\n",
        "    userId = random.choice(users)\n",
        "    gender = random.choice(['Male', 'Female'])\n",
        "    birth_date = generate_random_date_of_birth(1970, 2015)\n",
        "    data.append({\n",
        "        '_id': userId,\n",
        "        'gender': gender,\n",
        "        'birthday': birth_date,\n",
        "    })\n",
        "\n",
        "# Create DataFrame and save to CSV file\n",
        "df = pd.DataFrame(data)\n",
        "df.to_csv('data_user.csv', index=False, encoding='utf-8-sig')\n",
        "\n",
        "print(\"Data created and saved to csv file\")"
      ],
      "metadata": {
        "colab": {
          "base_uri": "https://localhost:8080/"
        },
        "id": "-7ht-K0TlSGA",
        "outputId": "27383129-7359-48f3-9fc4-0e25478da6da"
      },
      "execution_count": 64,
      "outputs": [
        {
          "output_type": "stream",
          "name": "stdout",
          "text": [
            "Data created and saved to csv file\n"
          ]
        }
      ]
    },
    {
      "cell_type": "markdown",
      "source": [
        "### Generate Dataset"
      ],
      "metadata": {
        "id": "M4Npo5kflUHb"
      }
    },
    {
      "cell_type": "code",
      "source": [
        "import pandas as pd\n",
        "import numpy as np\n",
        "import random\n",
        "from datetime import datetime, timedelta\n",
        "import json\n",
        "\n",
        "amazon_dataset = pd.read_csv('./amazon_reviews_dataset.csv', nrows=2000)\n",
        "user_data = pd.read_csv('./data_user.csv').drop_duplicates(subset='_id')\n",
        "item_data = pd.read_json('./data_item.json').drop_duplicates(subset='_id')\n",
        "\n",
        "### User handler\n",
        "user_ids_available = user_data['_id'].tolist()\n",
        "unique_users = amazon_dataset['user'].unique()\n",
        "user_mapping = {user: np.random.choice(user_ids_available) for user in unique_users}\n",
        "amazon_dataset['userID_new'] = amazon_dataset['user'].map(user_mapping)\n",
        "\n",
        "# Kết hợp thông tin bổ sung cho userID\n",
        "df_user_info_mapping = user_data.set_index('_id').to_dict(orient='index')\n",
        "amazon_dataset['birthday'] = amazon_dataset['userID_new'].map(lambda x: df_user_info_mapping.get(x, {}).get('birthday', np.nan))\n",
        "amazon_dataset['gender'] = amazon_dataset['userID_new'].map(lambda x: df_user_info_mapping.get(x, {}).get('gender', np.nan))\n",
        "\n",
        "### Item handler\n",
        "item_ids_available = item_data['_id'].tolist()\n",
        "unique_items = amazon_dataset['item'].unique()\n",
        "# print(unique_items.size)\n",
        "# print(unique_users.size)\n",
        "item_mapping = {item: np.random.choice(item_ids_available) for item in unique_items}\n",
        "amazon_dataset['itemID_new'] = amazon_dataset['item'].map(item_mapping)\n",
        "\n",
        "# Kết hợp thông tin bổ sung cho itemID\n",
        "df_item_info_mapping = item_data.set_index('_id').to_dict(orient='index')\n",
        "amazon_dataset['itemName'] = amazon_dataset['itemID_new'].map(lambda x: df_item_info_mapping.get(x, {}).get('name', np.nan))\n",
        "amazon_dataset['itemPrice'] = amazon_dataset['itemID_new'].map(lambda x: df_item_info_mapping.get(x, {}).get('price', np.nan))\n",
        "amazon_dataset['categoryID'] = amazon_dataset['itemID_new'].map(lambda x: df_item_info_mapping.get(x, {}).get('category_id', np.nan))\n",
        "\n",
        "df_result = amazon_dataset[['userID_new', 'birthday', 'gender', 'itemID_new', 'itemName', 'itemPrice', 'categoryID', 'rating', 'timestamp']] #Choose estential columns\n",
        "df_result.columns = ['userID', 'birthday', 'gender', 'itemID', 'itemName', 'itemPrice', 'categoryID', 'rating', 'timestamp']  # Đổi tên cột cho rõ ràng\n",
        "df_result.to_csv('dataset.csv', index=False, encoding='utf-8-sig')\n"
      ],
      "metadata": {
        "colab": {
          "base_uri": "https://localhost:8080/"
        },
        "id": "krRay_IwXrh1",
        "outputId": "f0315336-3dcf-44ab-e5fc-5d56981dde30"
      },
      "execution_count": 65,
      "outputs": [
        {
          "output_type": "stream",
          "name": "stdout",
          "text": [
            "60\n",
            "1988\n"
          ]
        }
      ]
    },
    {
      "cell_type": "markdown",
      "source": [
        "### Drag"
      ],
      "metadata": {
        "id": "InZpLaLWsjU2"
      }
    },
    {
      "cell_type": "code",
      "source": [
        "### Export data from database\n",
        "# db.getCollection('menus').find(\n",
        "#   {},\n",
        "#   { _id: 1, category_id: 1, name: 1, price: 1 }\n",
        "# );\n",
        "\n",
        "### Old random totally dataset\n",
        "\n",
        "# def generate_random_timestamp(start_date, end_date):\n",
        "#     start_timestamp = int(start_date.timestamp())\n",
        "#     end_timestamp = int(end_date.timestamp())\n",
        "#     random_timestamp = random.randint(start_timestamp, end_timestamp)\n",
        "#     return datetime.fromtimestamp(random_timestamp)\n",
        "\n",
        "# Create sample data\n",
        "# data = []\n",
        "# for _ in range(num_users * 40):\n",
        "#     userId = random.choice(users)\n",
        "#     gender = random.choice(['Male', 'Female'])\n",
        "#     birth_date = generate_random_date_of_birth(1970, 2015)\n",
        "#     item = random.choice(items)\n",
        "#     quantity = random.randint(1, 5)\n",
        "#     timestamp = generate_random_timestamp(datetime(2023, 1, 1), datetime(2024, 7, 20))\n",
        "#     data.append({\n",
        "#         'userID': userId,\n",
        "#         'itemID': item['_id'],\n",
        "#         'gender': gender,\n",
        "#         'birthday': birth_date,\n",
        "#         'itemName': item['name'],\n",
        "#         'itemPrice': item['price'],\n",
        "#         'rating': quantity,\n",
        "#         'categoryID': item['category_id'],\n",
        "#         'timestamp': timestamp\n",
        "#     })\n",
        "\n",
        "# # Create DataFrame and save to CSV file\n",
        "# df = pd.DataFrame(data)\n",
        "# df.to_csv('dataset.csv', index=False, encoding='utf-8-sig')\n",
        "\n",
        "# print(\"Dataset created and saved to csv file\")"
      ],
      "metadata": {
        "id": "mDoQ5Zz6dybp"
      },
      "execution_count": 51,
      "outputs": []
    },
    {
      "cell_type": "markdown",
      "source": [],
      "metadata": {
        "id": "TYoKYcDfXfpF"
      }
    }
  ]
}